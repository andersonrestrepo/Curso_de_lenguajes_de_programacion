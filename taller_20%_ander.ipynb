{
  "nbformat": 4,
  "nbformat_minor": 0,
  "metadata": {
    "colab": {
      "provenance": [],
      "authorship_tag": "ABX9TyMtlOXf/hRbjN3nmSyUhCkX",
      "include_colab_link": true
    },
    "kernelspec": {
      "name": "python3",
      "display_name": "Python 3"
    },
    "language_info": {
      "name": "python"
    }
  },
  "cells": [
    {
      "cell_type": "markdown",
      "metadata": {
        "id": "view-in-github",
        "colab_type": "text"
      },
      "source": [
        "<a href=\"https://colab.research.google.com/github/andersonrestrepo/Curso_de_lenguajes_de_programacion/blob/main/taller_20%25_ander.ipynb\" target=\"_parent\"><img src=\"https://colab.research.google.com/assets/colab-badge.svg\" alt=\"Open In Colab\"/></a>"
      ]
    },
    {
      "cell_type": "code",
      "execution_count": null,
      "metadata": {
        "id": "Matyz7_PAqUg"
      },
      "outputs": [],
      "source": [
        "# Damos inicio al taller evaluativo"
      ]
    },
    {
      "cell_type": "markdown",
      "source": [
        " 1. Datos de Inversión Inicial\n",
        "La empresa ha recopilado los siguientes datos sobre cuatro clientes:\n",
        "\n",
        "Clientes: Juan Perez, Maria Rodriguez, Carlos Lopez, Ana Gomez\n",
        "Montos invertidos (en dólares): 10000, 15000, 20000, 18000\n",
        "Rendimientos anuales (%): 5.5, 6.0, 4.0, 7.5\n",
        "Tarea:\n",
        "Declara una lista llamada clientes, una lista llamada montos_invertidos y una lista llamada rendimientos con los datos proporcionados.\n",
        "\n",
        "# Ejemplo de cómo iniciar\n",
        "\n",
        "clientes = [\"Juan Perez\", \"Maria Rodriguez\", \"Carlos Lopez\", \"Ana Gomez\"]\n",
        "montos_invertidos = [10000, 15000, 20000, 18000]\n",
        "rendimientos = [5.5, 6.0, 4.0, 7.5]\n",
        "\n",
        "Crear Tuplas para Almacenar la Información\n",
        "Crea una tupla para cada cliente que contenga su nombre, monto invertido y rendimiento.\n",
        "\n",
        "Tarea:\n",
        "Crea cuatro tuplas llamadas cliente_1, cliente_2, cliente_3 y cliente_4, donde cada tupla contenga los datos de un cliente."
      ],
      "metadata": {
        "id": "zctlpr5xBM2Y"
      }
    },
    {
      "cell_type": "code",
      "source": [
        "# INFORMACION DE CLIENTES"
      ],
      "metadata": {
        "id": "cEfyHcnBBnzO"
      },
      "execution_count": null,
      "outputs": []
    },
    {
      "cell_type": "code",
      "source": [
        "clientes = [\"Juan Perez\", \"Maria Rodriguez\", \"Carlos Lopez\", \"Ana Gomez\"]\n",
        "montos_invertidos = [10000, 15000, 20000, 18000]\n",
        "rendimientos = [5.5, 6.0, 4.0, 7.5]"
      ],
      "metadata": {
        "id": "6YctOdQtBq79"
      },
      "execution_count": null,
      "outputs": []
    },
    {
      "cell_type": "code",
      "source": [
        "# TUPLAS CON CADA UNO DE LOS CLIENTES . TENEMOS LA SIGUIENTE INFORMACION"
      ],
      "metadata": {
        "id": "18TSLKJWB6Kf"
      },
      "execution_count": null,
      "outputs": []
    },
    {
      "cell_type": "code",
      "source": [
        "cliente_1 = (clientes[0], montos_invertidos[0], rendimientos[0])\n",
        "cliente_2 = (clientes[1], montos_invertidos[1], rendimientos[1])\n",
        "cliente_3 = (clientes[2], montos_invertidos[2], rendimientos[2])\n",
        "cliente_4 = (clientes[3], montos_invertidos[3], rendimientos[3])"
      ],
      "metadata": {
        "id": "nwcvL87YCSbT"
      },
      "execution_count": null,
      "outputs": []
    },
    {
      "cell_type": "code",
      "source": [
        "# LISTA/DATOS/CLIENTES\n",
        "clientes = [\"Juan Perez\", \"Maria Rodriguez\", \"Carlos Lopez\", \"Ana Gomez\"]\n",
        "montos_invertidos = [10000, 15000, 20000, 18000]\n",
        "rendimientos = [5.5, 6.0, 4.0, 7.5]\n",
        "\n",
        "# TUPLAS CON (nombre, monto, rendimiento, interés anual)\n",
        "cliente_1 = (clientes[0], montos_invertidos[0], rendimientos[0], montos_invertidos[0] * rendimientos[0] / 100)\n",
        "cliente_2 = (clientes[1], montos_invertidos[1], rendimientos[1], montos_invertidos[1] * rendimientos[1] / 100)\n",
        "cliente_3 = (clientes[2], montos_invertidos[2], rendimientos[2], montos_invertidos[2] * rendimientos[2] / 100)\n",
        "cliente_4 = (clientes[3], montos_invertidos[3], rendimientos[3], montos_invertidos[3] * rendimientos[3] / 100)\n",
        "\n",
        "# GUARDAR / CLIENTES EN UNA LISTA\n",
        "lista_clientes = [cliente_1, cliente_2, cliente_3, cliente_4]\n",
        "\n",
        "# IMPRIMIR LA INFORMACION\n",
        "for cliente in lista_clientes:\n",
        "    print(f\"Nombre: {cliente[0]}, Monto Invertido: ${cliente[1]}, Rendimiento: {cliente[2]}%, Interés Anual: ${cliente[3]:.2f}\")"
      ],
      "metadata": {
        "colab": {
          "base_uri": "https://localhost:8080/"
        },
        "id": "Q4WuYocNC1BG",
        "outputId": "42e8ae88-6c3d-4e0e-be5b-13947c6a2628"
      },
      "execution_count": null,
      "outputs": [
        {
          "output_type": "stream",
          "name": "stdout",
          "text": [
            "Nombre: Juan Perez, Monto Invertido: $10000, Rendimiento: 5.5%, Interés Anual: $550.00\n",
            "Nombre: Maria Rodriguez, Monto Invertido: $15000, Rendimiento: 6.0%, Interés Anual: $900.00\n",
            "Nombre: Carlos Lopez, Monto Invertido: $20000, Rendimiento: 4.0%, Interés Anual: $800.00\n",
            "Nombre: Ana Gomez, Monto Invertido: $18000, Rendimiento: 7.5%, Interés Anual: $1350.00\n"
          ]
        }
      ]
    },
    {
      "cell_type": "markdown",
      "source": [
        "Parte 2: Uso de Diccionarios y Condicionales\n",
        "Almacenar los Datos en un Diccionario\n",
        "Almacena los datos de los clientes en un diccionario llamado portafolio. En este diccionario, cada clave debe ser el nombre del cliente, y cada valor será un diccionario que contenga el monto_invertido y el rendimiento.\n",
        "\n",
        "Tarea:\n",
        "Declara el diccionario portafolio con los datos proporcionados.\n",
        "\n",
        "# Ejemplo de cómo iniciar\n",
        "portafolio = {\n",
        "\"Juan Perez\": {\"monto_invertido\": 10000, \"rendimiento\": 5.5},\n",
        "\"Maria Rodriguez\": {\"monto_invertido\": 15000, \"rendimiento\": 6.0},\n",
        "\"Carlos Lopez\": {\"monto_invertido\": 20000, \"rendimiento\": 4.0},\n",
        "\"Ana Gomez\": {\"monto_invertido\": 18000, \"rendimiento\": 7.5}\n",
        "}\n",
        "\n",
        "2. Evaluación del Rendimiento de los Clientes\n",
        "La empresa quiere identificar qué clientes han tenido un rendimiento superior al 5%.\n",
        "\n",
        "Tarea:\n",
        "\n",
        "Utiliza un ciclo for y una condicional if para recorrer el diccionario portafolio. Imprime el nombre y el rendimiento de aquellos clientes cuyo rendimiento sea mayor al 5%.\n",
        "\n",
        "# Pista: Recorrer el diccionario y usar una condicional\n",
        "for cliente, datos in portafolio.items():\n",
        "if datos[\"rendimiento\"] > 5:\n",
        "print(f\"{cliente} tiene un rendimiento de {datos['rendimiento']}%\")\n",
        "\n"
      ],
      "metadata": {
        "id": "Y1NmPhJxMcgD"
      }
    },
    {
      "cell_type": "code",
      "source": [
        "# CREAMOS / PORTAFOLIO CON CLIENTES\n",
        "portafolio = {\n",
        "    \"Juan Perez\": {\"monto_invertido\": 10000, \"rendimiento\": 5.5},\n",
        "    \"Maria Rodriguez\": {\"monto_invertido\": 15000, \"rendimiento\": 6.0},\n",
        "    \"Carlos Lopez\": {\"monto_invertido\": 20000, \"rendimiento\": 4.0},\n",
        "    \"Ana Gomez\": {\"monto_invertido\": 18000, \"rendimiento\":7.5}\n",
        "}\n",
        "\n",
        "print(portafolio)\n"
      ],
      "metadata": {
        "colab": {
          "base_uri": "https://localhost:8080/"
        },
        "id": "tu_xy0GrPpBN",
        "outputId": "38a92871-9c8e-4f7f-942e-592c7e6472b3"
      },
      "execution_count": null,
      "outputs": [
        {
          "output_type": "stream",
          "name": "stdout",
          "text": [
            "{'Juan Perez': {'monto_invertido': 10000, 'rendimiento': 5.5}, 'Maria Rodriguez': {'monto_invertido': 15000, 'rendimiento': 6.0}, 'Carlos Lopez': {'monto_invertido': 20000, 'rendimiento': 4.0}, 'Ana Gomez': {'monto_invertido': 18000, 'rendimiento': 7.5}}\n"
          ]
        }
      ]
    },
    {
      "cell_type": "code",
      "source": [
        "# EVALUAR EL RENDIMIENTO DE LOS CLIENTES\n",
        "print(\"Clientes con rendimiento mayor al 5%:\")\n",
        "for cliente, datos in portafolio.items():\n",
        "    if datos[\"rendimiento\"] > 5:\n",
        "        print(f\"{cliente} tiene un rendimiento de {datos['rendimiento']}%\")"
      ],
      "metadata": {
        "colab": {
          "base_uri": "https://localhost:8080/"
        },
        "id": "8VRAKNLvPzkN",
        "outputId": "97bfb9c8-43ae-412e-89c6-174280fbd2c8"
      },
      "execution_count": null,
      "outputs": [
        {
          "output_type": "stream",
          "name": "stdout",
          "text": [
            "Clientes con rendimiento mayor al 5%:\n",
            "Juan Perez tiene un rendimiento de 5.5%\n",
            "Maria Rodriguez tiene un rendimiento de 6.0%\n",
            "Ana Gomez tiene un rendimiento de 7.5%\n"
          ]
        }
      ]
    },
    {
      "cell_type": "markdown",
      "source": [
        "Parte 3: Cálculos con Ciclos\n",
        "Calcular el Rendimiento Total del Portafolio\n",
        "La empresa desea calcular el rendimiento total del portafolio, que se define como la suma de todos los rendimientos en dólares.\n",
        "\n",
        "Tarea:\n",
        "Usa un ciclo for para calcular el rendimiento total del portafolio. El rendimiento en dólares se calcula como:\n",
        "\n",
        "\n",
        "\n",
        "Al final, imprime el rendimiento total de todos los clientes.\n",
        "\n",
        "# Ejemplo de cómo iniciar\n",
        "rendimiento_total = 0\n",
        "for cliente, datos in portafolio.items():\n",
        "rendimiento_cliente = (datos[\"monto_invertido\"] * datos[\"rendimiento\"]) / 100\n",
        "rendimiento_total += rendimiento_cliente\n",
        "\n",
        "print(f\"El rendimiento total del portafolio es: ${rendimiento_total:.2f}\")\n",
        "\n",
        "Identificar al Cliente con Mayor Rendimiento\n",
        "La empresa necesita saber qué cliente ha obtenido el mayor rendimiento en términos absolutos.\n",
        "\n",
        "Tarea:\n",
        "Recorre el diccionario portafolio usando un ciclo for y usa una condicional if para identificar al cliente con el mayor rendimiento absoluto en dólares."
      ],
      "metadata": {
        "id": "lJE-2DinNVhR"
      }
    },
    {
      "cell_type": "code",
      "source": [
        "# calculamos el rendimiento TOTAL / PORTAFOLIO\n",
        "rendimiento_total = 0\n",
        "for cliente, datos in portafolio.items():\n",
        "    rendimiento_cliente = (datos[\"monto_invertido\"] * datos[\"rendimiento\"]) / 100\n",
        "    rendimiento_total += rendimiento_cliente\n",
        "\n",
        "print(f\"El rendimiento total del portafolio es: ${rendimiento_total:.2f}\")"
      ],
      "metadata": {
        "colab": {
          "base_uri": "https://localhost:8080/"
        },
        "id": "wKUGAKOFNZJR",
        "outputId": "92be2a79-a700-4f77-8d4d-5b7d4f1cac2d"
      },
      "execution_count": null,
      "outputs": [
        {
          "output_type": "stream",
          "name": "stdout",
          "text": [
            "El rendimiento total del portafolio es: $3600.00\n"
          ]
        }
      ]
    },
    {
      "cell_type": "code",
      "source": [
        "# IDENTIFICAMOS AL CLIENTE CON EL MAYOR VALOR ABSOLUTO EN DOLARES\n",
        "mayor_rendimiento = 0\n",
        "cliente_top = \"\"\n",
        "\n",
        "for cliente, datos in portafolio.items():\n",
        "    rendimiento_cliente = (datos[\"monto_invertido\"] * datos[\"rendimiento\"]) / 100\n",
        "    if rendimiento_cliente > mayor_rendimiento:\n",
        "        mayor_rendimiento = rendimiento_cliente\n",
        "        cliente_top = cliente\n",
        "\n",
        "print(f\"El cliente con mayor rendimiento absoluto es {cliente_top} con ${mayor_rendimiento:.2f}\")"
      ],
      "metadata": {
        "colab": {
          "base_uri": "https://localhost:8080/"
        },
        "id": "IShDYTXnNobw",
        "outputId": "c552dc97-26e7-4e44-ae83-93aff2d3bbcb"
      },
      "execution_count": null,
      "outputs": [
        {
          "output_type": "stream",
          "name": "stdout",
          "text": [
            "El cliente con mayor rendimiento absoluto es Ana Gomez con $1350.00\n"
          ]
        }
      ]
    },
    {
      "cell_type": "markdown",
      "source": [
        "Parte 4: Modificaciones del Portafolio\n",
        "Actualizar el Monto Invertido de un Cliente\n",
        "\"Carlos Lopez\" ha decidido aumentar su inversión a 25,000 dólares.\n",
        "\n",
        "Tarea:\n",
        "Actualiza el valor de monto_invertido para \"Carlos Lopez\" en el diccionario portafolio.\n",
        "\n",
        "Añadir un Nuevo Cliente al Portafolio\n",
        "Un nuevo cliente, \"Laura Fernandez\", ha decidido invertir 22,000 dólares con un rendimiento del 6.8%.\n",
        "\n",
        "Tarea:\n",
        "Añade a \"Laura Fernandez\" al diccionario portafolio con los datos proporcionados.\n",
        "\n",
        "Remover a un Cliente del Portafolio\n",
        "\"Ana Gomez\" ha decidido retirar su inversión.\n",
        "\n",
        "Tarea:\n",
        "Remueve a \"Ana Gomez\" del diccionario portafolio.  "
      ],
      "metadata": {
        "id": "tBlQ9du1N9po"
      }
    },
    {
      "cell_type": "code",
      "source": [
        "# ACTUALIZAMOS EL MONTO INVERTIDO DE CARLOS LOPEZ\n",
        "\n",
        "portafolio[\"Carlos Lopez\"][\"monto_invertido\"] = 25000\n",
        "print(portafolio)"
      ],
      "metadata": {
        "colab": {
          "base_uri": "https://localhost:8080/"
        },
        "id": "r6HvROLZOASv",
        "outputId": "760c755e-c81e-4985-d086-a18388c03b25"
      },
      "execution_count": null,
      "outputs": [
        {
          "output_type": "stream",
          "name": "stdout",
          "text": [
            "{'Juan Perez': {'monto_invertido': 10000, 'rendimiento': 5.5}, 'Maria Rodriguez': {'monto_invertido': 15000, 'rendimiento': 6.0}, 'Carlos Lopez': {'monto_invertido': 25000, 'rendimiento': 4.0}, 'Ana Gomez': {'monto_invertido': 18000, 'rendimiento': 7.5}, 'Laura Fernandez': {'monto_invertido': 22000, 'rendimiento': 6.8}}\n"
          ]
        }
      ]
    },
    {
      "cell_type": "code",
      "source": [
        "# INGRESAMOS A LAURA FERNANDEZ\n",
        "portafolio[\"Laura Fernandez\"] = {\"monto_invertido\": 22000, \"rendimiento\": 6.8}\n",
        "\n",
        "print(portafolio)\n"
      ],
      "metadata": {
        "colab": {
          "base_uri": "https://localhost:8080/"
        },
        "id": "HQBbq8x0OLP3",
        "outputId": "407920c2-2cb8-4da4-f02a-d0f0378c37f9"
      },
      "execution_count": null,
      "outputs": [
        {
          "output_type": "stream",
          "name": "stdout",
          "text": [
            "{'Juan Perez': {'monto_invertido': 10000, 'rendimiento': 5.5}, 'Maria Rodriguez': {'monto_invertido': 15000, 'rendimiento': 6.0}, 'Carlos Lopez': {'monto_invertido': 25000, 'rendimiento': 4.0}, 'Ana Gomez': {'monto_invertido': 18000, 'rendimiento': 7.5}, 'Laura Fernandez': {'monto_invertido': 22000, 'rendimiento': 6.8}}\n"
          ]
        }
      ]
    },
    {
      "cell_type": "code",
      "source": [
        "# REMOVEMOS A ANA GOMEZ\n",
        "del portafolio[\"Ana Gomez\"]\n",
        "print(portafolio)\n",
        "\n"
      ],
      "metadata": {
        "colab": {
          "base_uri": "https://localhost:8080/"
        },
        "id": "XDOWC5yBO-em",
        "outputId": "1bf40573-9668-4931-a180-afe618c59a27"
      },
      "execution_count": null,
      "outputs": [
        {
          "output_type": "stream",
          "name": "stdout",
          "text": [
            "{'Juan Perez': {'monto_invertido': 10000, 'rendimiento': 5.5}, 'Maria Rodriguez': {'monto_invertido': 15000, 'rendimiento': 6.0}, 'Carlos Lopez': {'monto_invertido': 25000, 'rendimiento': 4.0}, 'Laura Fernandez': {'monto_invertido': 22000, 'rendimiento': 6.8}}\n"
          ]
        }
      ]
    }
  ]
}