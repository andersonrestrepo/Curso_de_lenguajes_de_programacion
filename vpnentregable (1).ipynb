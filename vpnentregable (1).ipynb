{
  "nbformat": 4,
  "nbformat_minor": 0,
  "metadata": {
    "colab": {
      "provenance": []
    },
    "kernelspec": {
      "name": "python3",
      "display_name": "Python 3"
    },
    "language_info": {
      "name": "python"
    }
  },
  "cells": [
    {
      "cell_type": "markdown",
      "source": [
        "# Declaracion de variables\n",
        "\n",
        "identificar las variables que vamos a utilizar para el ejercicio"
      ],
      "metadata": {
        "id": "BOTYaRKDuPXX"
      }
    },
    {
      "cell_type": "code",
      "source": [
        "inversion_inicial= 20000\n",
        "flujos_año1= 4000\n",
        "flujos_año2= 5000\n",
        "flujos_año3= 3000\n",
        "tasa_descuento= 0.06"
      ],
      "metadata": {
        "id": "QE3Ogu95uzvc"
      },
      "execution_count": null,
      "outputs": []
    },
    {
      "cell_type": "markdown",
      "source": [
        "#Calcular el VPN valor presente neto\n",
        "\n",
        "Usamos las variables escritas para calcular el VPN del proyecto"
      ],
      "metadata": {
        "id": "7vBF2Y7xv81I"
      }
    },
    {
      "cell_type": "code",
      "source": [
        "vpn=(flujos_año1/(1+tasa_descuento)**1)+(flujos_año2/(1+tasa_descuento)**2)+(flujos_año3/(1+tasa_descuento)**3)-inversion_inicial\n",
        "print(\"El valor  presente neto (vpn) es :\", vpn)"
      ],
      "metadata": {
        "colab": {
          "base_uri": "https://localhost:8080/"
        },
        "id": "87wBXietwXI5",
        "outputId": "d286a459-c3fa-4b05-9828-6bff9dd47b4e"
      },
      "execution_count": null,
      "outputs": [
        {
          "output_type": "stream",
          "name": "stdout",
          "text": [
            "El valor  presente neto (vpn) es : -9257.57504517152\n"
          ]
        }
      ]
    },
    {
      "cell_type": "markdown",
      "source": [
        "#Interpretar el resultado\n",
        "\n",
        "Una vez obtengo el resultado interpreto el calculo para identificar la viabilidad del proyecto"
      ],
      "metadata": {
        "id": "MYE8sGvhxqJa"
      }
    },
    {
      "cell_type": "code",
      "source": [
        "if (vpn>0):\n",
        "  print(\"El proyecto es viable, por que el vpn es positivo\")\n",
        "else:\n",
        "  print(\"El proyecto no es viable, por que el vpn negativo\")"
      ],
      "metadata": {
        "colab": {
          "base_uri": "https://localhost:8080/"
        },
        "id": "AzE_gwhix6Ht",
        "outputId": "0b286ed3-4d76-445d-c5ae-ee61473523f2"
      },
      "execution_count": null,
      "outputs": [
        {
          "output_type": "stream",
          "name": "stdout",
          "text": [
            "El proyecto no es viable, por que el vpn negativo\n"
          ]
        }
      ]
    }
  ]
}